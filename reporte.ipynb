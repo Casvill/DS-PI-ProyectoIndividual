{
 "cells": [
  {
   "cell_type": "markdown",
   "metadata": {},
   "source": [
    "# REPORTE DE CALIDAD Y KPI´S\n",
    "---"
   ]
  },
  {
   "cell_type": "markdown",
   "metadata": {},
   "source": [
    "### Primeros pasos: Importando librerías y creación de funciones para el análisis:"
   ]
  },
  {
   "cell_type": "code",
   "execution_count": 81,
   "metadata": {},
   "outputs": [],
   "source": [
    "#SE IMPORTAN LAS LIBRERÍAS QUE SERÁN USADAS A LOS LARGO DEL REPORTE:\n",
    "import pandas as pd\n",
    "import matplotlib.pyplot as plt\n",
    "import seaborn as sns\n",
    "import warnings\n",
    "import numpy as np\n",
    "warnings.filterwarnings('ignore')"
   ]
  },
  {
   "cell_type": "markdown",
   "metadata": {},
   "source": [
    "### Función para detectar outliers:"
   ]
  },
  {
   "cell_type": "code",
   "execution_count": 2,
   "metadata": {},
   "outputs": [],
   "source": [
    "def detectar_outliers(df:pd.DataFrame,columna:str,tecnica='cajas') -> pd.DataFrame:\n",
    "    \"\"\"\n",
    "    Función que detecta outliers en un dataframe usando una tecnica determinada.\n",
    "    Parámetros:\n",
    "        df: DataFrame sobre el que se realizará la detección de outliers.\n",
    "        columna: columna sobre la que se realizará la detección de outliers.\n",
    "        tecnica: tecnica de detección de outliers ('cajas' o 'sigmas').\n",
    "    Retorna:\n",
    "        DataFrame: DataFrame con los outliers detectados en una nueva columna llamada 'outlier'.\n",
    "        \n",
    "        (0 = outlier, 1 = no outlier)\n",
    "    \"\"\"\n",
    "\n",
    "    if not 'outlier' in df.columns:\n",
    "        df['outlier'] = 1\n",
    "\n",
    "    #Detección por medio de Diagrama de Cajas:\n",
    "    if tecnica == 'cajas':\n",
    "        q1 = df[columna].describe().loc['25%']\n",
    "        q3 = df[columna].describe().loc['75%']\n",
    "        rango_IC = q3 - q1\n",
    "        minimo = q1 - ((1.5) * (rango_IC))\n",
    "        maximo = q3 + ((1.5) * (rango_IC))\n",
    "\n",
    "\n",
    "    #Detección de outliers por medio de las 3 sigmas:\n",
    "    elif tecnica == 'sigmas':\n",
    "        promedio = df[columna].mean()\n",
    "        stddev = df[columna].std()\n",
    "        maximo = promedio + (3 * stddev)\n",
    "        minimo = promedio - (3 * stddev)\n",
    "\n",
    "\n",
    "    df['outlier'][(df[columna] > maximo) | (df[columna] < minimo)] = 0\n",
    "    \n",
    "    return df"
   ]
  },
  {
   "cell_type": "markdown",
   "metadata": {},
   "source": [
    "### Función para determinar y graficar la calidad de los datos:"
   ]
  },
  {
   "cell_type": "code",
   "execution_count": 3,
   "metadata": {},
   "outputs": [],
   "source": [
    "def determinar_calidad(df:pd.DataFrame,columna:str): \n",
    "    #Outliers:\n",
    "    df = detectar_outliers(df,columna)\n",
    "\n",
    "    #Datos generales:\n",
    "    total = df.shape[0]\n",
    "    no_nulos = df[columna].notnull().sum()\n",
    "    nulos = total - no_nulos\n",
    "    outliers = df[columna][df.outlier == 0].count()\n",
    "    sin_errores = (total - nulos) - outliers \n",
    "\n",
    "    #Porcentaje de datos:\n",
    "    porcentaje_nulos = round((nulos * 100)/total,2)\n",
    "    porcentaje_outliers = round((outliers * 100)/total,2)\n",
    "    porcentaje_sin_errores = round((sin_errores * 100)/total,2)\n",
    "\n",
    "    #Datos para el grafico:\n",
    "    titulo = f\"Calidad del dato '{columna}'\"\n",
    "    estados = ['Outliers','Sin Errores','Valores Nulos'] \n",
    "    porcentajes = [porcentaje_outliers,porcentaje_sin_errores,porcentaje_nulos] \n",
    "    df = pd.DataFrame({\"Estado\":estados, \n",
    "                       \"Porcentaje\":porcentajes}) \n",
    "\n",
    "    #Grafico:\n",
    "    plot = sns.barplot(x='Estado', y=\"Porcentaje\", data=df)\n",
    "    plot.set_title(titulo)\n",
    "    \n",
    "\n",
    "    for p in plot.patches:\n",
    "        h, w, x = p.get_height(), p.get_width(), p.get_x()\n",
    "        xy = (p.get_x() + p.get_width() / 2, p.get_height())\n",
    "        plot.annotate(text=f\"{h}%\", xy=xy, ha='center', va='baseline',\n",
    "                      fontsize = 11,color = 'black', xytext = (0,1),\n",
    "                      textcoords = 'offset pixels')\n",
    "    \n",
    "\n",
    "    plt.show()\n",
    "\n",
    "    "
   ]
  },
  {
   "cell_type": "markdown",
   "metadata": {},
   "source": [
    "---\n",
    "## REPORTE DE CALIDAD:"
   ]
  },
  {
   "cell_type": "markdown",
   "metadata": {},
   "source": [
    "## **Tabla:** Venta\n",
    "### Diccionario\n",
    "| | Columna Original | Columna Normalizada | Tipo de Dato Original | Descripción |\n",
    "|:-------------------:|---|---|---|---|\n",
    "| 0 | IdVenta | id_venta | int64 | Clave única que identifica la venta |\n",
    "| 1 | Fecha | fecha | Object | Fecha de la venta realizada |\n",
    "| 2 | Fecha_Entrega | fecha_entrega | Object | Fecha de entrega de la venta |\n",
    "| 3 | IdCanal | id_canal | int64 | Clave única que identifica el canal de venta |\n",
    "| 4 | IdCliente | id_ cliente | int64 | Clave única que identifica al cliente |\n",
    "| 5 | IdSucursal | id_sucursal | int64 | Clave única que identifica a la sucursal |\n",
    "| 6 | IdEmpleado | id_empleado | int64 | Clave única que identifica al empleado |\n",
    "| 7 | IdProducto | id_producto | int64 | Clave única que identifica el producto de la venta|\n",
    "| 8 | Precio | precio | float64 | Precio unitario del producto vendido |\n",
    "| 9 | Cantidad | cantidad | float64 | Cantidad de producto de la venta realizada |"
   ]
  },
  {
   "cell_type": "code",
   "execution_count": 4,
   "metadata": {},
   "outputs": [],
   "source": [
    "df_ventas = pd.read_csv('Datasets/Venta.csv')\n",
    "new_names = {'IdVenta':'id_venta',\n",
    "             'Fecha':'fecha',\n",
    "             'Fecha_Entrega':'fecha_entrega',\n",
    "             'IdCanal':'id_canal',\n",
    "             'IdCliente':'id_cliente',\n",
    "             'IdSucursal':'id_sucursal',\n",
    "             'IdEmpleado':'id_empleado',\n",
    "             'IdProducto':'id_producto',\n",
    "             'Cantidad':'cantidad',\n",
    "             'Precio':'precio'}\n",
    "df_ventas.rename(columns=new_names,inplace=True)"
   ]
  },
  {
   "cell_type": "markdown",
   "metadata": {},
   "source": [
    "#### Calidad de los datos de la columna 'Precio':"
   ]
  },
  {
   "cell_type": "code",
   "execution_count": 5,
   "metadata": {},
   "outputs": [
    {
     "data": {
      "image/png": "[encoded data removed]",
      "text/plain": [
       "<Figure size 432x288 with 1 Axes>"
      ]
     },
     "metadata": {
      "needs_background": "light"
     },
     "output_type": "display_data"
    }
   ],
   "source": [
    "determinar_calidad(df_ventas,'precio')"
   ]
  },
  {
   "cell_type": "markdown",
   "metadata": {},
   "source": [
    "#### Calidad de los datos de la columna 'Cantidad':"
   ]
  },
  {
   "cell_type": "code",
   "execution_count": 6,
   "metadata": {},
   "outputs": [
    {
     "data": {
      "image/png": "[encoded data removed]",
      "text/plain": [
       "<Figure size 432x288 with 1 Axes>"
      ]
     },
     "metadata": {
      "needs_background": "light"
     },
     "output_type": "display_data"
    }
   ],
   "source": [
    "determinar_calidad(df_ventas,'cantidad')"
   ]
  },
  {
   "cell_type": "markdown",
   "metadata": {},
   "source": [
    "## **Tabla:** Compra\n",
    "| | Columna Original | Columna Normalizada | Tipo de Dato Original | Descripción |\n",
    "|:-------------------:|---|---|---|---|\n",
    "| 0 | IdCompra | id_compra | int64 | Clave única que identifica una compra |\n",
    "| 1 | Fecha | fecha | Object | Fecha registrada de compra |\n",
    "| 2 | Fecha_Año | *Columna eliminada* | int64 | Año registrado de compra |\n",
    "| 3 | Fecha_Mes | *Columna eliminada* | int64 | Mes registrado de compra |\n",
    "| 4 | Fecha_Periodo | *Columna eliminada* | int64 | Periodo registrado de compra  |\n",
    "| 5 | IdProducto | id_producto | int64 | Clave única que identifica al producto adquirido |\n",
    "| 6 | Cantidad | cantidad | int64 | Cantidad de producto adquirido en la compra |\n",
    "| 7 | Precio | precio | float64 | Precio unitario del producto comprado |\n",
    "| 8 | IdProveedor | id_proveedor | int64 | Clave única que identifica al proveedor |"
   ]
  },
  {
   "cell_type": "code",
   "execution_count": 7,
   "metadata": {},
   "outputs": [],
   "source": [
    "df_compras = pd.read_csv('Datasets/Compra.csv')\n",
    "new_names = {'IdCompra':'id_compra',\n",
    "             'Fecha':'fecha',\n",
    "             'IdProducto':'id_producto',\n",
    "             'Cantidad':'cantidad',\n",
    "             'Precio':'precio',\n",
    "             'IdProveedor':'id_proveedor'}\n",
    "df_compras.rename(columns=new_names,inplace=True)"
   ]
  },
  {
   "cell_type": "markdown",
   "metadata": {},
   "source": [
    "#### Calidad de los datos de la columna 'Precio':"
   ]
  },
  {
   "cell_type": "code",
   "execution_count": 8,
   "metadata": {},
   "outputs": [
    {
     "data": {
      "image/png": "[encoded data removed]",
      "text/plain": [
       "<Figure size 432x288 with 1 Axes>"
      ]
     },
     "metadata": {
      "needs_background": "light"
     },
     "output_type": "display_data"
    }
   ],
   "source": [
    "determinar_calidad(df_compras,'precio')"
   ]
  },
  {
   "cell_type": "markdown",
   "metadata": {},
   "source": [
    "#### Calidad de los datos de la columna 'Cantidad':"
   ]
  },
  {
   "cell_type": "code",
   "execution_count": 9,
   "metadata": {},
   "outputs": [
    {
     "data": {
      "image/png": "[encoded data removed]",
      "text/plain": [
       "<Figure size 432x288 with 1 Axes>"
      ]
     },
     "metadata": {
      "needs_background": "light"
     },
     "output_type": "display_data"
    }
   ],
   "source": [
    "determinar_calidad(df_compras,'cantidad')"
   ]
  },
  {
   "cell_type": "markdown",
   "metadata": {},
   "source": [
    "## **Tabla:** Gasto\n",
    "| | Columna Original | Columna Normalizada | Tipo de Dato Original | Descripción |\n",
    "|:-------------------:|---|---|---|---|\n",
    "| 0 | IdGasto | id_gasto | int64 | Clave única que identifica el gasto |\n",
    "| 1 | IdSucursal | id_sucursal | int64 | Clave única que identifica la sucursal |\n",
    "| 2 | IdTipoGasto | id_tipo_gasto | int64 | Clave única que identifica el tipo de gasto |\n",
    "| 3 | Fecha | fecha | Object | Fecha registrada del gasto |\n",
    "| 4 | Monto | monto | float64 | Monto total del gasto |"
   ]
  },
  {
   "cell_type": "code",
   "execution_count": 10,
   "metadata": {},
   "outputs": [],
   "source": [
    "df_gastos = pd.read_csv('Datasets/Gasto.csv')\n",
    "new_names = {'IdGasto':'id_gasto',\n",
    "             'IdSucursal':'id_sucursal',\n",
    "             'IdTipoGasto':'id_tipo_gasto',\n",
    "             'Fecha':'fecha',\n",
    "             'Monto':'monto'}\n",
    "df_gastos.rename(columns=new_names,inplace=True)"
   ]
  },
  {
   "cell_type": "markdown",
   "metadata": {},
   "source": [
    "#### Calidad de los datos de la columna 'Monto':"
   ]
  },
  {
   "cell_type": "code",
   "execution_count": 11,
   "metadata": {},
   "outputs": [
    {
     "data": {
      "image/png": "[encoded data removed]",
      "text/plain": [
       "<Figure size 432x288 with 1 Axes>"
      ]
     },
     "metadata": {
      "needs_background": "light"
     },
     "output_type": "display_data"
    }
   ],
   "source": [
    "determinar_calidad(df_gastos,'monto')"
   ]
  },
  {
   "cell_type": "markdown",
   "metadata": {},
   "source": [
    "---\n",
    "## KPI'S:"
   ]
  },
  {
   "cell_type": "markdown",
   "metadata": {},
   "source": [
    "#### Procederemos a hacer un análisis exploratorio de datos y en base a este definiremos nuestros kpi's"
   ]
  },
  {
   "cell_type": "code",
   "execution_count": 12,
   "metadata": {},
   "outputs": [
    {
     "name": "stdout",
     "output_type": "stream",
     "text": [
      "<class 'pandas.core.frame.DataFrame'>\n",
      "RangeIndex: 46180 entries, 0 to 46179\n",
      "Data columns (total 11 columns):\n",
      " #   Column         Non-Null Count  Dtype  \n",
      "---  ------         --------------  -----  \n",
      " 0   id_venta       46180 non-null  int64  \n",
      " 1   fecha          46180 non-null  object \n",
      " 2   fecha_entrega  46180 non-null  object \n",
      " 3   id_canal       46180 non-null  int64  \n",
      " 4   id_cliente     46180 non-null  int64  \n",
      " 5   id_sucursal    46180 non-null  int64  \n",
      " 6   id_empleado    46180 non-null  int64  \n",
      " 7   id_producto    46180 non-null  int64  \n",
      " 8   precio         45260 non-null  float64\n",
      " 9   cantidad       45296 non-null  float64\n",
      " 10  outlier        46180 non-null  int64  \n",
      "dtypes: float64(2), int64(7), object(2)\n",
      "memory usage: 3.9+ MB\n"
     ]
    }
   ],
   "source": [
    "df_ventas.info()"
   ]
  },
  {
   "cell_type": "code",
   "execution_count": 13,
   "metadata": {},
   "outputs": [
    {
     "data": {
      "image/png": "[encoded data removed]",
      "text/plain": [
       "<Figure size 432x288 with 1 Axes>"
      ]
     },
     "metadata": {
      "needs_background": "light"
     },
     "output_type": "display_data"
    }
   ],
   "source": [
    "df_ventas['fecha'] = pd.to_datetime(df_ventas['fecha'])\n",
    "df_ventas['venta'] = df_ventas['cantidad'] * df_ventas['precio']\n",
    "df_ventas_plot = df_ventas[df_ventas.outlier == 1].groupby(['fecha']).sum()['venta'].reset_index()\n",
    "sns.barplot(x=df_ventas_plot.fecha.dt.year, y='venta', data=df_ventas_plot, ci=None)\n",
    "plt.xlabel('Año')\n",
    "plt.title('Ventas por año')\n",
    "plt.show()"
   ]
  },
  {
   "cell_type": "code",
   "execution_count": 14,
   "metadata": {},
   "outputs": [
    {
     "name": "stdout",
     "output_type": "stream",
     "text": [
      "15.559013984105386\n"
     ]
    }
   ],
   "source": [
    "promedio = df_ventas_plot[df_ventas_plot.fecha.dt.year != 2020].groupby(df_ventas_plot.fecha.dt.year).sum().mean().venta\n",
    "año_mayor_venta = df_ventas_plot[df_ventas_plot.fecha.dt.year == 2020].sum().venta\n",
    "porcentaje_crecimiento = 1 - (promedio / año_mayor_venta) \n",
    "print((porcentaje_crecimiento) * 100)"
   ]
  },
  {
   "cell_type": "markdown",
   "metadata": {},
   "source": [
    "#### En la gráfica podemos observar que para los años comprendidos entre 2015 y 2019 las ventas se mantuvieron casi constantes, mientras que para el año 2020 hubo un incremento de ventas de aproximadamente un 15.5% respecto al promedio de ventas de los años anteriores."
   ]
  },
  {
   "cell_type": "code",
   "execution_count": 69,
   "metadata": {},
   "outputs": [
    {
     "data": {
      "image/png": "[encoded data removed]",
      "text/plain": [
       "<Figure size 432x288 with 1 Axes>"
      ]
     },
     "metadata": {
      "needs_background": "light"
     },
     "output_type": "display_data"
    }
   ],
   "source": [
    "df_plot = df_ventas[df_ventas.outlier == 1].groupby(df_ventas['fecha'].dt.month).sum()['venta'].reset_index()\n",
    "sns.barplot(x='fecha', y=\"venta\", data=df_plot)\n",
    "plt.xlabel('Mes')\n",
    "plt.title('Ventas por mes')\n",
    "plt.show()"
   ]
  },
  {
   "cell_type": "code",
   "execution_count": 74,
   "metadata": {},
   "outputs": [
    {
     "data": {
      "text/html": [
       "<div>\n",
       "<style scoped>\n",
       "    .dataframe tbody tr th:only-of-type {\n",
       "        vertical-align: middle;\n",
       "    }\n",
       "\n",
       "    .dataframe tbody tr th {\n",
       "        vertical-align: top;\n",
       "    }\n",
       "\n",
       "    .dataframe thead th {\n",
       "        text-align: right;\n",
       "    }\n",
       "</style>\n",
       "<table border=\"1\" class=\"dataframe\">\n",
       "  <thead>\n",
       "    <tr style=\"text-align: right;\">\n",
       "      <th></th>\n",
       "      <th>fecha</th>\n",
       "      <th>venta</th>\n",
       "    </tr>\n",
       "  </thead>\n",
       "  <tbody>\n",
       "    <tr>\n",
       "      <th>0</th>\n",
       "      <td>1</td>\n",
       "      <td>8064037.78</td>\n",
       "    </tr>\n",
       "    <tr>\n",
       "      <th>1</th>\n",
       "      <td>2</td>\n",
       "      <td>7652260.68</td>\n",
       "    </tr>\n",
       "    <tr>\n",
       "      <th>2</th>\n",
       "      <td>3</td>\n",
       "      <td>7908104.48</td>\n",
       "    </tr>\n",
       "    <tr>\n",
       "      <th>3</th>\n",
       "      <td>4</td>\n",
       "      <td>7935083.23</td>\n",
       "    </tr>\n",
       "    <tr>\n",
       "      <th>4</th>\n",
       "      <td>5</td>\n",
       "      <td>7539880.99</td>\n",
       "    </tr>\n",
       "    <tr>\n",
       "      <th>5</th>\n",
       "      <td>6</td>\n",
       "      <td>7092932.35</td>\n",
       "    </tr>\n",
       "    <tr>\n",
       "      <th>6</th>\n",
       "      <td>7</td>\n",
       "      <td>7411589.66</td>\n",
       "    </tr>\n",
       "    <tr>\n",
       "      <th>7</th>\n",
       "      <td>8</td>\n",
       "      <td>6896564.89</td>\n",
       "    </tr>\n",
       "    <tr>\n",
       "      <th>8</th>\n",
       "      <td>9</td>\n",
       "      <td>7740132.36</td>\n",
       "    </tr>\n",
       "    <tr>\n",
       "      <th>9</th>\n",
       "      <td>10</td>\n",
       "      <td>7281131.05</td>\n",
       "    </tr>\n",
       "    <tr>\n",
       "      <th>10</th>\n",
       "      <td>11</td>\n",
       "      <td>6687692.06</td>\n",
       "    </tr>\n",
       "    <tr>\n",
       "      <th>11</th>\n",
       "      <td>12</td>\n",
       "      <td>5727748.01</td>\n",
       "    </tr>\n",
       "  </tbody>\n",
       "</table>\n",
       "</div>"
      ],
      "text/plain": [
       "    fecha       venta\n",
       "0       1  8064037.78\n",
       "1       2  7652260.68\n",
       "2       3  7908104.48\n",
       "3       4  7935083.23\n",
       "4       5  7539880.99\n",
       "5       6  7092932.35\n",
       "6       7  7411589.66\n",
       "7       8  6896564.89\n",
       "8       9  7740132.36\n",
       "9      10  7281131.05\n",
       "10     11  6687692.06\n",
       "11     12  5727748.01"
      ]
     },
     "execution_count": 74,
     "metadata": {},
     "output_type": "execute_result"
    }
   ],
   "source": [
    "df_plot"
   ]
  },
  {
   "cell_type": "markdown",
   "metadata": {},
   "source": [
    "### Podemos notar también que, en promedio, en el mes de noviembre y especialmente en diciembre, las ventas disminuyen considerablemente."
   ]
  },
  {
   "cell_type": "code",
   "execution_count": 16,
   "metadata": {},
   "outputs": [],
   "source": [
    "df_canal_de_venta = pd.read_excel('Datasets/CanalDeVenta.xlsx')"
   ]
  },
  {
   "cell_type": "code",
   "execution_count": 17,
   "metadata": {},
   "outputs": [
    {
     "name": "stdout",
     "output_type": "stream",
     "text": [
      "<class 'pandas.core.frame.DataFrame'>\n",
      "RangeIndex: 3 entries, 0 to 2\n",
      "Data columns (total 2 columns):\n",
      " #   Column       Non-Null Count  Dtype \n",
      "---  ------       --------------  ----- \n",
      " 0   CODIGO       3 non-null      int64 \n",
      " 1   DESCRIPCION  3 non-null      object\n",
      "dtypes: int64(1), object(1)\n",
      "memory usage: 176.0+ bytes\n"
     ]
    }
   ],
   "source": [
    "df_canal_de_venta.info()"
   ]
  },
  {
   "cell_type": "code",
   "execution_count": 18,
   "metadata": {},
   "outputs": [],
   "source": [
    "df_ventas = df_ventas.merge(df_canal_de_venta, left_on='id_canal',right_on='CODIGO')"
   ]
  },
  {
   "cell_type": "code",
   "execution_count": 19,
   "metadata": {},
   "outputs": [
    {
     "name": "stdout",
     "output_type": "stream",
     "text": [
      "<class 'pandas.core.frame.DataFrame'>\n",
      "Int64Index: 46180 entries, 0 to 46179\n",
      "Data columns (total 13 columns):\n",
      " #   Column          Non-Null Count  Dtype         \n",
      "---  ------          --------------  -----         \n",
      " 0   id_venta        46180 non-null  int64         \n",
      " 1   fecha           46180 non-null  datetime64[ns]\n",
      " 2   fecha_entrega   46180 non-null  object        \n",
      " 3   id_canal        46180 non-null  int64         \n",
      " 4   id_cliente      46180 non-null  int64         \n",
      " 5   id_sucursal     46180 non-null  int64         \n",
      " 6   id_empleado     46180 non-null  int64         \n",
      " 7   id_producto     46180 non-null  int64         \n",
      " 8   precio          45260 non-null  float64       \n",
      " 9   cantidad        45296 non-null  float64       \n",
      " 10  outlier         46180 non-null  int64         \n",
      " 11  venta           44392 non-null  float64       \n",
      " 12  canal_de_venta  46180 non-null  object        \n",
      "dtypes: datetime64[ns](1), float64(3), int64(7), object(2)\n",
      "memory usage: 4.9+ MB\n"
     ]
    }
   ],
   "source": [
    "df_ventas.drop(columns=['CODIGO'],inplace=True)\n",
    "df_ventas.rename(columns={'DESCRIPCION':'canal_de_venta'},inplace=True)\n",
    "df_ventas.info()"
   ]
  },
  {
   "cell_type": "code",
   "execution_count": 20,
   "metadata": {},
   "outputs": [
    {
     "data": {
      "image/png": "[encoded data removed]",
      "text/plain": [
       "<Figure size 432x288 with 1 Axes>"
      ]
     },
     "metadata": {
      "needs_background": "light"
     },
     "output_type": "display_data"
    }
   ],
   "source": [
    "df_plot = df_ventas[df_ventas.outlier == 1][['canal_de_venta','venta']].groupby('canal_de_venta').sum()\n",
    "sns.barplot(x=df_plot.index, y=\"venta\", data=df_plot, ci=None)\n",
    "plt.title('Ventas por canal de venta')\n",
    "plt.show()"
   ]
  },
  {
   "cell_type": "code",
   "execution_count": 21,
   "metadata": {},
   "outputs": [
    {
     "name": "stdout",
     "output_type": "stream",
     "text": [
      "<class 'pandas.core.frame.DataFrame'>\n",
      "RangeIndex: 31 entries, 0 to 30\n",
      "Data columns (total 7 columns):\n",
      " #   Column     Non-Null Count  Dtype \n",
      "---  ------     --------------  ----- \n",
      " 0   ID         31 non-null     int64 \n",
      " 1   Sucursal   31 non-null     object\n",
      " 2   Direccion  31 non-null     object\n",
      " 3   Localidad  31 non-null     object\n",
      " 4   Provincia  31 non-null     object\n",
      " 5   Latitud    31 non-null     object\n",
      " 6   Longitud   31 non-null     object\n",
      "dtypes: int64(1), object(6)\n",
      "memory usage: 1.8+ KB\n"
     ]
    }
   ],
   "source": [
    "df_sucursal = pd.read_csv('Datasets/Sucursales.csv',sep=';')\n",
    "df_sucursal.info()"
   ]
  },
  {
   "cell_type": "code",
   "execution_count": 22,
   "metadata": {},
   "outputs": [],
   "source": [
    "df_ventas2 = df_ventas.merge(df_sucursal, left_on='id_sucursal',right_on='ID')"
   ]
  },
  {
   "cell_type": "code",
   "execution_count": 23,
   "metadata": {},
   "outputs": [],
   "source": [
    "df_ventas2.drop(columns=['ID','Direccion','Provincia','Latitud','Longitud','Localidad'],inplace=True)"
   ]
  },
  {
   "cell_type": "code",
   "execution_count": 29,
   "metadata": {},
   "outputs": [],
   "source": [
    "df_plot = df_ventas2[df_ventas2.outlier == 1][['Sucursal','venta','cantidad']].groupby('Sucursal').sum()"
   ]
  },
  {
   "cell_type": "code",
   "execution_count": 31,
   "metadata": {},
   "outputs": [
    {
     "data": {
      "image/png": "[encoded data removed]",
      "text/plain": [
       "<Figure size 432x288 with 1 Axes>"
      ]
     },
     "metadata": {
      "needs_background": "light"
     },
     "output_type": "display_data"
    }
   ],
   "source": [
    "sns.barplot(x=df_plot.index, y=\"venta\", data=df_plot.sort_values(by='venta',ascending=False), ci=None)\n",
    "plt.title('Ventas por sucursal')\n",
    "plt.xticks(rotation=90)\n",
    "plt.show()"
   ]
  },
  {
   "cell_type": "code",
   "execution_count": 32,
   "metadata": {},
   "outputs": [
    {
     "name": "stdout",
     "output_type": "stream",
     "text": [
      "<class 'pandas.core.frame.DataFrame'>\n",
      "RangeIndex: 8640 entries, 0 to 8639\n",
      "Data columns (total 6 columns):\n",
      " #   Column         Non-Null Count  Dtype  \n",
      "---  ------         --------------  -----  \n",
      " 0   id_gasto       8640 non-null   int64  \n",
      " 1   id_sucursal    8640 non-null   int64  \n",
      " 2   id_tipo_gasto  8640 non-null   int64  \n",
      " 3   fecha          8640 non-null   object \n",
      " 4   monto          8640 non-null   float64\n",
      " 5   outlier        8640 non-null   int64  \n",
      "dtypes: float64(1), int64(4), object(1)\n",
      "memory usage: 405.1+ KB\n"
     ]
    }
   ],
   "source": [
    "df_gastos.info()"
   ]
  },
  {
   "cell_type": "code",
   "execution_count": 158,
   "metadata": {},
   "outputs": [],
   "source": [
    "df_gastos['fecha'] = pd.to_datetime(df_gastos['fecha'])"
   ]
  },
  {
   "cell_type": "code",
   "execution_count": 179,
   "metadata": {},
   "outputs": [],
   "source": [
    "df = df_gastos.groupby(df_gastos.fecha.dt.year).sum()['monto'].reset_index()"
   ]
  },
  {
   "cell_type": "code",
   "execution_count": 180,
   "metadata": {},
   "outputs": [
    {
     "data": {
      "text/plain": [
       "<AxesSubplot:xlabel='fecha', ylabel='monto'>"
      ]
     },
     "execution_count": 180,
     "metadata": {},
     "output_type": "execute_result"
    },
    {
     "data": {
      "image/png": "[encoded data removed]",
      "text/plain": [
       "<Figure size 432x288 with 1 Axes>"
      ]
     },
     "metadata": {
      "needs_background": "light"
     },
     "output_type": "display_data"
    }
   ],
   "source": [
    "sns.barplot(x=df.fecha, y=\"monto\", data=df,estimator=sum, ci=None)"
   ]
  }
 ],
 "metadata": {
  "kernelspec": {
   "display_name": "Python 3.10.3 64-bit",
   "language": "python",
   "name": "python3"
  },
  "language_info": {
   "codemirror_mode": {
    "name": "ipython",
    "version": 3
   },
   "file_extension": ".py",
   "mimetype": "text/x-python",
   "name": "python",
   "nbconvert_exporter": "python",
   "pygments_lexer": "ipython3",
   "version": "3.10.3"
  },
  "orig_nbformat": 4,
  "vscode": {
   "interpreter": {
    "hash": "369f2c481f4da34e4445cda3fffd2e751bd1c4d706f27375911949ba6bb62e1c"
   }
  }
 },
 "nbformat": 4,
 "nbformat_minor": 2
}
